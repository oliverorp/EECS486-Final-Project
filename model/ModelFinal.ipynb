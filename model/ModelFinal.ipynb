{
 "cells": [
  {
   "cell_type": "code",
   "execution_count": 1,
   "metadata": {},
   "outputs": [],
   "source": [
    "import numpy as np\n",
    "import pandas as pd\n",
    "import joblib\n",
    "\n",
    "from sklearn.model_selection import train_test_split\n",
    "from sklearn.ensemble import RandomForestClassifier\n",
    "from sklearn.model_selection import GridSearchCV\n",
    "from sklearn.preprocessing import OneHotEncoder\n",
    "from sklearn.compose import make_column_transformer\n",
    "from sklearn.pipeline import Pipeline, make_pipeline\n",
    "from sklearn.metrics import f1_score\n",
    "from sklearn.metrics import accuracy_score\n",
    "from sklearn.metrics import classification_report\n",
    "from sklearn.preprocessing import StandardScaler\n"
   ]
  },
  {
   "cell_type": "code",
   "execution_count": 2,
   "metadata": {},
   "outputs": [],
   "source": [
    "data = pd.read_csv(\"Time_Wasters_on_Social_Media.csv\")\n",
    "df = pd.DataFrame(data)"
   ]
  },
  {
   "cell_type": "code",
   "execution_count": 3,
   "metadata": {},
   "outputs": [],
   "source": [
    "columns = [\n",
    "    \"UserID\",\n",
    "    \"Age\",\n",
    "    \"Gender\",\n",
    "    \"Location\",\n",
    "    \"Income\",\n",
    "    \"Debt\",\n",
    "    \"Owns Property\",\n",
    "    \"Demographics\",\n",
    "    \"Platform\",\n",
    "    \"Total Time Spent\",\n",
    "    \"Number of Sessions\",\n",
    "    \"Number of Videos Watched\",\n",
    "    \"Scroll Rate\",\n",
    "    \"Frequency\",\n",
    "    \"ProductivityLoss\",\n",
    "    \"Satisfaction\",\n",
    "    \"Watch Reason\",\n",
    "    \"Self Control\",\n",
    "    \"Addiction Level\",\n",
    "    \"CurrentActivity\"\n",
    "]\n",
    "\n",
    "colsInterest = df[columns]\n",
    "#colsInterest.to_csv('rStudioInput.csv', index=False)\n",
    "colsInterest.set_index(\"UserID\", inplace=True)"
   ]
  },
  {
   "cell_type": "code",
   "execution_count": 4,
   "metadata": {},
   "outputs": [
    {
     "name": "stderr",
     "output_type": "stream",
     "text": [
      "/var/folders/c1/gpylh5g97sg4fxdhqnsmdf7w0000gn/T/ipykernel_37834/3003120303.py:7: SettingWithCopyWarning: \n",
      "A value is trying to be set on a copy of a slice from a DataFrame.\n",
      "Try using .loc[row_indexer,col_indexer] = value instead\n",
      "\n",
      "See the caveats in the documentation: https://pandas.pydata.org/pandas-docs/stable/user_guide/indexing.html#returning-a-view-versus-a-copy\n",
      "  colsInterest[\"Location\"] = colsInterest[\"Location\"].apply(brazil)\n"
     ]
    }
   ],
   "source": [
    "def brazil(country):\n",
    "    if country == \"Barzil\":\n",
    "        return \"Brazil\"\n",
    "    else:\n",
    "        return country\n",
    "    \n",
    "colsInterest[\"Location\"] = colsInterest[\"Location\"].apply(brazil)"
   ]
  },
  {
   "cell_type": "code",
   "execution_count": 5,
   "metadata": {},
   "outputs": [
    {
     "name": "stderr",
     "output_type": "stream",
     "text": [
      "/var/folders/c1/gpylh5g97sg4fxdhqnsmdf7w0000gn/T/ipykernel_37834/3465303423.py:14: SettingWithCopyWarning: \n",
      "A value is trying to be set on a copy of a slice from a DataFrame.\n",
      "Try using .loc[row_indexer,col_indexer] = value instead\n",
      "\n",
      "See the caveats in the documentation: https://pandas.pydata.org/pandas-docs/stable/user_guide/indexing.html#returning-a-view-versus-a-copy\n",
      "  colsInterest[\"BinnedProdLoss\"] = colsInterest[\"ProductivityLoss\"].apply(bin)\n"
     ]
    }
   ],
   "source": [
    "#ProductivityLoss: 1-9\n",
    "#Satis: 1-9\n",
    "#SelfControl: 3-10\n",
    "#Addiction: 0-7\n",
    "\n",
    "def bin(score: str) -> str:\n",
    "    if int(score) < 4:\n",
    "        return (\"Low\")\n",
    "    elif int(score) < 8: # changed from 7 Oliver\n",
    "        return (\"Medium\")\n",
    "    else:\n",
    "        return (\"High\")\n",
    "\n",
    "colsInterest[\"BinnedProdLoss\"] = colsInterest[\"ProductivityLoss\"].apply(bin)"
   ]
  },
  {
   "cell_type": "code",
   "execution_count": 6,
   "metadata": {},
   "outputs": [],
   "source": [
    "columns = [\n",
    "    \"Age\",\n",
    "    \"Gender\",\n",
    "    \"Country\",\n",
    "    \"Income\",\n",
    "    \"HasDebt\",\n",
    "    \"OwnsProperty\",\n",
    "    \"Demographics\",\n",
    "    \"Platform\",\n",
    "    \"MinutesSpent\",\n",
    "    \"NumSessions\",\n",
    "    \"NumVideos\",\n",
    "    \"ScrollRate\",\n",
    "    \"TimeOfDay\",\n",
    "    \"ProductivityLoss\",\n",
    "    \"Satisfaction\",\n",
    "    \"WatchReason\",\n",
    "    \"SelfControl\",\n",
    "    \"AddictionLevel\",\n",
    "    \"CurrentActivity\",\n",
    "    \"BinnedProdLoss\"\n",
    "]\n",
    "\n",
    "colsInterest.columns = columns"
   ]
  },
  {
   "cell_type": "code",
   "execution_count": null,
   "metadata": {},
   "outputs": [],
   "source": [
    "# colsInterest.to_csv('classifierInput.csv', index=False)"
   ]
  },
  {
   "cell_type": "markdown",
   "metadata": {},
   "source": [
    "<span style=\"color: #FFCCCC;\">Build Random Forest Classifier <span style>\n",
    "\n",
    "Predict Productivity Loss Class given these features"
   ]
  },
  {
   "cell_type": "code",
   "execution_count": 8,
   "metadata": {},
   "outputs": [
    {
     "data": {
      "text/html": [
       "<div>\n",
       "<style scoped>\n",
       "    .dataframe tbody tr th:only-of-type {\n",
       "        vertical-align: middle;\n",
       "    }\n",
       "\n",
       "    .dataframe tbody tr th {\n",
       "        vertical-align: top;\n",
       "    }\n",
       "\n",
       "    .dataframe thead th {\n",
       "        text-align: right;\n",
       "    }\n",
       "</style>\n",
       "<table border=\"1\" class=\"dataframe\">\n",
       "  <thead>\n",
       "    <tr style=\"text-align: right;\">\n",
       "      <th></th>\n",
       "      <th>Age</th>\n",
       "      <th>Gender</th>\n",
       "      <th>Country</th>\n",
       "      <th>Income</th>\n",
       "      <th>HasDebt</th>\n",
       "      <th>OwnsProperty</th>\n",
       "      <th>Demographics</th>\n",
       "      <th>Platform</th>\n",
       "      <th>MinutesSpent</th>\n",
       "      <th>NumSessions</th>\n",
       "      <th>NumVideos</th>\n",
       "      <th>ScrollRate</th>\n",
       "      <th>TimeOfDay</th>\n",
       "      <th>ProductivityLoss</th>\n",
       "      <th>Satisfaction</th>\n",
       "      <th>WatchReason</th>\n",
       "      <th>SelfControl</th>\n",
       "      <th>AddictionLevel</th>\n",
       "      <th>CurrentActivity</th>\n",
       "      <th>BinnedProdLoss</th>\n",
       "    </tr>\n",
       "    <tr>\n",
       "      <th>UserID</th>\n",
       "      <th></th>\n",
       "      <th></th>\n",
       "      <th></th>\n",
       "      <th></th>\n",
       "      <th></th>\n",
       "      <th></th>\n",
       "      <th></th>\n",
       "      <th></th>\n",
       "      <th></th>\n",
       "      <th></th>\n",
       "      <th></th>\n",
       "      <th></th>\n",
       "      <th></th>\n",
       "      <th></th>\n",
       "      <th></th>\n",
       "      <th></th>\n",
       "      <th></th>\n",
       "      <th></th>\n",
       "      <th></th>\n",
       "      <th></th>\n",
       "    </tr>\n",
       "  </thead>\n",
       "  <tbody>\n",
       "    <tr>\n",
       "      <th>1</th>\n",
       "      <td>56</td>\n",
       "      <td>Male</td>\n",
       "      <td>Pakistan</td>\n",
       "      <td>82812</td>\n",
       "      <td>True</td>\n",
       "      <td>True</td>\n",
       "      <td>Rural</td>\n",
       "      <td>Instagram</td>\n",
       "      <td>80</td>\n",
       "      <td>17</td>\n",
       "      <td>22</td>\n",
       "      <td>87</td>\n",
       "      <td>Night</td>\n",
       "      <td>3</td>\n",
       "      <td>7</td>\n",
       "      <td>Procrastination</td>\n",
       "      <td>5</td>\n",
       "      <td>5</td>\n",
       "      <td>Commuting</td>\n",
       "      <td>Low</td>\n",
       "    </tr>\n",
       "    <tr>\n",
       "      <th>2</th>\n",
       "      <td>46</td>\n",
       "      <td>Female</td>\n",
       "      <td>Mexico</td>\n",
       "      <td>27999</td>\n",
       "      <td>False</td>\n",
       "      <td>True</td>\n",
       "      <td>Urban</td>\n",
       "      <td>Instagram</td>\n",
       "      <td>228</td>\n",
       "      <td>14</td>\n",
       "      <td>31</td>\n",
       "      <td>46</td>\n",
       "      <td>Afternoon</td>\n",
       "      <td>5</td>\n",
       "      <td>5</td>\n",
       "      <td>Habit</td>\n",
       "      <td>7</td>\n",
       "      <td>3</td>\n",
       "      <td>At school</td>\n",
       "      <td>Medium</td>\n",
       "    </tr>\n",
       "    <tr>\n",
       "      <th>3</th>\n",
       "      <td>32</td>\n",
       "      <td>Female</td>\n",
       "      <td>United States</td>\n",
       "      <td>42436</td>\n",
       "      <td>False</td>\n",
       "      <td>True</td>\n",
       "      <td>Rural</td>\n",
       "      <td>Facebook</td>\n",
       "      <td>30</td>\n",
       "      <td>6</td>\n",
       "      <td>7</td>\n",
       "      <td>88</td>\n",
       "      <td>Evening</td>\n",
       "      <td>6</td>\n",
       "      <td>4</td>\n",
       "      <td>Entertainment</td>\n",
       "      <td>8</td>\n",
       "      <td>2</td>\n",
       "      <td>At home</td>\n",
       "      <td>Medium</td>\n",
       "    </tr>\n",
       "    <tr>\n",
       "      <th>4</th>\n",
       "      <td>60</td>\n",
       "      <td>Male</td>\n",
       "      <td>Brazil</td>\n",
       "      <td>62963</td>\n",
       "      <td>True</td>\n",
       "      <td>False</td>\n",
       "      <td>Rural</td>\n",
       "      <td>YouTube</td>\n",
       "      <td>101</td>\n",
       "      <td>19</td>\n",
       "      <td>41</td>\n",
       "      <td>93</td>\n",
       "      <td>Night</td>\n",
       "      <td>3</td>\n",
       "      <td>7</td>\n",
       "      <td>Habit</td>\n",
       "      <td>5</td>\n",
       "      <td>5</td>\n",
       "      <td>Commuting</td>\n",
       "      <td>Low</td>\n",
       "    </tr>\n",
       "    <tr>\n",
       "      <th>5</th>\n",
       "      <td>25</td>\n",
       "      <td>Male</td>\n",
       "      <td>Pakistan</td>\n",
       "      <td>22096</td>\n",
       "      <td>False</td>\n",
       "      <td>True</td>\n",
       "      <td>Urban</td>\n",
       "      <td>TikTok</td>\n",
       "      <td>136</td>\n",
       "      <td>6</td>\n",
       "      <td>21</td>\n",
       "      <td>4</td>\n",
       "      <td>Morning</td>\n",
       "      <td>8</td>\n",
       "      <td>2</td>\n",
       "      <td>Boredom</td>\n",
       "      <td>10</td>\n",
       "      <td>0</td>\n",
       "      <td>At home</td>\n",
       "      <td>High</td>\n",
       "    </tr>\n",
       "  </tbody>\n",
       "</table>\n",
       "</div>"
      ],
      "text/plain": [
       "        Age  Gender        Country  Income  HasDebt  OwnsProperty  \\\n",
       "UserID                                                              \n",
       "1        56    Male       Pakistan   82812     True          True   \n",
       "2        46  Female         Mexico   27999    False          True   \n",
       "3        32  Female  United States   42436    False          True   \n",
       "4        60    Male         Brazil   62963     True         False   \n",
       "5        25    Male       Pakistan   22096    False          True   \n",
       "\n",
       "       Demographics   Platform  MinutesSpent  NumSessions  NumVideos  \\\n",
       "UserID                                                                 \n",
       "1             Rural  Instagram            80           17         22   \n",
       "2             Urban  Instagram           228           14         31   \n",
       "3             Rural   Facebook            30            6          7   \n",
       "4             Rural    YouTube           101           19         41   \n",
       "5             Urban     TikTok           136            6         21   \n",
       "\n",
       "        ScrollRate  TimeOfDay  ProductivityLoss  Satisfaction  \\\n",
       "UserID                                                          \n",
       "1               87      Night                 3             7   \n",
       "2               46  Afternoon                 5             5   \n",
       "3               88    Evening                 6             4   \n",
       "4               93      Night                 3             7   \n",
       "5                4    Morning                 8             2   \n",
       "\n",
       "            WatchReason  SelfControl  AddictionLevel CurrentActivity  \\\n",
       "UserID                                                                 \n",
       "1       Procrastination            5               5       Commuting   \n",
       "2                 Habit            7               3       At school   \n",
       "3         Entertainment            8               2         At home   \n",
       "4                 Habit            5               5       Commuting   \n",
       "5               Boredom           10               0         At home   \n",
       "\n",
       "       BinnedProdLoss  \n",
       "UserID                 \n",
       "1                 Low  \n",
       "2              Medium  \n",
       "3              Medium  \n",
       "4                 Low  \n",
       "5                High  "
      ]
     },
     "execution_count": 8,
     "metadata": {},
     "output_type": "execute_result"
    }
   ],
   "source": [
    "colsInterest.head(5)"
   ]
  },
  {
   "cell_type": "code",
   "execution_count": 9,
   "metadata": {},
   "outputs": [
    {
     "data": {
      "text/plain": [
       "Age                 0\n",
       "Gender              0\n",
       "Country             0\n",
       "Income              0\n",
       "HasDebt             0\n",
       "OwnsProperty        0\n",
       "Demographics        0\n",
       "Platform            0\n",
       "MinutesSpent        0\n",
       "NumSessions         0\n",
       "NumVideos           0\n",
       "ScrollRate          0\n",
       "TimeOfDay           0\n",
       "ProductivityLoss    0\n",
       "Satisfaction        0\n",
       "WatchReason         0\n",
       "SelfControl         0\n",
       "AddictionLevel      0\n",
       "CurrentActivity     0\n",
       "BinnedProdLoss      0\n",
       "dtype: int64"
      ]
     },
     "execution_count": 9,
     "metadata": {},
     "output_type": "execute_result"
    }
   ],
   "source": [
    "# colsInterest.head(5)\n",
    "\n",
    "colsInterest.isna().sum() # no missing values"
   ]
  },
  {
   "cell_type": "code",
   "execution_count": 10,
   "metadata": {},
   "outputs": [
    {
     "data": {
      "text/plain": [
       "Index(['Age', 'Gender', 'Country', 'Income', 'HasDebt', 'OwnsProperty',\n",
       "       'Demographics', 'Platform', 'MinutesSpent', 'NumSessions', 'NumVideos',\n",
       "       'ScrollRate', 'TimeOfDay', 'ProductivityLoss', 'Satisfaction',\n",
       "       'WatchReason', 'SelfControl', 'AddictionLevel', 'CurrentActivity',\n",
       "       'BinnedProdLoss'],\n",
       "      dtype='object')"
      ]
     },
     "execution_count": 10,
     "metadata": {},
     "output_type": "execute_result"
    }
   ],
   "source": [
    "colsInterest.columns"
   ]
  },
  {
   "cell_type": "code",
   "execution_count": 11,
   "metadata": {},
   "outputs": [
    {
     "name": "stderr",
     "output_type": "stream",
     "text": [
      "/var/folders/c1/gpylh5g97sg4fxdhqnsmdf7w0000gn/T/ipykernel_37834/779407238.py:8: SettingWithCopyWarning: \n",
      "A value is trying to be set on a copy of a slice from a DataFrame.\n",
      "Try using .loc[row_indexer,col_indexer] = value instead\n",
      "\n",
      "See the caveats in the documentation: https://pandas.pydata.org/pandas-docs/stable/user_guide/indexing.html#returning-a-view-versus-a-copy\n",
      "  colsInterest['HasDebt'] =  colsInterest['HasDebt'].apply(makeBinary)\n",
      "/var/folders/c1/gpylh5g97sg4fxdhqnsmdf7w0000gn/T/ipykernel_37834/779407238.py:9: SettingWithCopyWarning: \n",
      "A value is trying to be set on a copy of a slice from a DataFrame.\n",
      "Try using .loc[row_indexer,col_indexer] = value instead\n",
      "\n",
      "See the caveats in the documentation: https://pandas.pydata.org/pandas-docs/stable/user_guide/indexing.html#returning-a-view-versus-a-copy\n",
      "  colsInterest['OwnsProperty'] = colsInterest['OwnsProperty'].apply(makeBinary)\n"
     ]
    }
   ],
   "source": [
    "# make hasDebt and ownsProperty Boolean\n",
    "\n",
    "def makeBinary(x):\n",
    "    if x == True:\n",
    "        return 1\n",
    "    return 0\n",
    "\n",
    "colsInterest['HasDebt'] =  colsInterest['HasDebt'].apply(makeBinary)\n",
    "colsInterest['OwnsProperty'] = colsInterest['OwnsProperty'].apply(makeBinary)"
   ]
  },
  {
   "cell_type": "code",
   "execution_count": 12,
   "metadata": {},
   "outputs": [
    {
     "data": {
      "text/html": [
       "<div>\n",
       "<style scoped>\n",
       "    .dataframe tbody tr th:only-of-type {\n",
       "        vertical-align: middle;\n",
       "    }\n",
       "\n",
       "    .dataframe tbody tr th {\n",
       "        vertical-align: top;\n",
       "    }\n",
       "\n",
       "    .dataframe thead th {\n",
       "        text-align: right;\n",
       "    }\n",
       "</style>\n",
       "<table border=\"1\" class=\"dataframe\">\n",
       "  <thead>\n",
       "    <tr style=\"text-align: right;\">\n",
       "      <th></th>\n",
       "      <th>Age</th>\n",
       "      <th>Gender</th>\n",
       "      <th>Country</th>\n",
       "      <th>Income</th>\n",
       "      <th>HasDebt</th>\n",
       "      <th>OwnsProperty</th>\n",
       "      <th>Demographics</th>\n",
       "      <th>Platform</th>\n",
       "      <th>MinutesSpent</th>\n",
       "      <th>NumSessions</th>\n",
       "      <th>NumVideos</th>\n",
       "      <th>ScrollRate</th>\n",
       "      <th>TimeOfDay</th>\n",
       "      <th>ProductivityLoss</th>\n",
       "      <th>Satisfaction</th>\n",
       "      <th>WatchReason</th>\n",
       "      <th>SelfControl</th>\n",
       "      <th>AddictionLevel</th>\n",
       "      <th>CurrentActivity</th>\n",
       "      <th>BinnedProdLoss</th>\n",
       "    </tr>\n",
       "    <tr>\n",
       "      <th>UserID</th>\n",
       "      <th></th>\n",
       "      <th></th>\n",
       "      <th></th>\n",
       "      <th></th>\n",
       "      <th></th>\n",
       "      <th></th>\n",
       "      <th></th>\n",
       "      <th></th>\n",
       "      <th></th>\n",
       "      <th></th>\n",
       "      <th></th>\n",
       "      <th></th>\n",
       "      <th></th>\n",
       "      <th></th>\n",
       "      <th></th>\n",
       "      <th></th>\n",
       "      <th></th>\n",
       "      <th></th>\n",
       "      <th></th>\n",
       "      <th></th>\n",
       "    </tr>\n",
       "  </thead>\n",
       "  <tbody>\n",
       "    <tr>\n",
       "      <th>1</th>\n",
       "      <td>56</td>\n",
       "      <td>Male</td>\n",
       "      <td>Pakistan</td>\n",
       "      <td>82812</td>\n",
       "      <td>1</td>\n",
       "      <td>1</td>\n",
       "      <td>Rural</td>\n",
       "      <td>Instagram</td>\n",
       "      <td>80</td>\n",
       "      <td>17</td>\n",
       "      <td>22</td>\n",
       "      <td>87</td>\n",
       "      <td>Night</td>\n",
       "      <td>3</td>\n",
       "      <td>7</td>\n",
       "      <td>Procrastination</td>\n",
       "      <td>5</td>\n",
       "      <td>5</td>\n",
       "      <td>Commuting</td>\n",
       "      <td>Low</td>\n",
       "    </tr>\n",
       "    <tr>\n",
       "      <th>2</th>\n",
       "      <td>46</td>\n",
       "      <td>Female</td>\n",
       "      <td>Mexico</td>\n",
       "      <td>27999</td>\n",
       "      <td>0</td>\n",
       "      <td>1</td>\n",
       "      <td>Urban</td>\n",
       "      <td>Instagram</td>\n",
       "      <td>228</td>\n",
       "      <td>14</td>\n",
       "      <td>31</td>\n",
       "      <td>46</td>\n",
       "      <td>Afternoon</td>\n",
       "      <td>5</td>\n",
       "      <td>5</td>\n",
       "      <td>Habit</td>\n",
       "      <td>7</td>\n",
       "      <td>3</td>\n",
       "      <td>At school</td>\n",
       "      <td>Medium</td>\n",
       "    </tr>\n",
       "    <tr>\n",
       "      <th>3</th>\n",
       "      <td>32</td>\n",
       "      <td>Female</td>\n",
       "      <td>United States</td>\n",
       "      <td>42436</td>\n",
       "      <td>0</td>\n",
       "      <td>1</td>\n",
       "      <td>Rural</td>\n",
       "      <td>Facebook</td>\n",
       "      <td>30</td>\n",
       "      <td>6</td>\n",
       "      <td>7</td>\n",
       "      <td>88</td>\n",
       "      <td>Evening</td>\n",
       "      <td>6</td>\n",
       "      <td>4</td>\n",
       "      <td>Entertainment</td>\n",
       "      <td>8</td>\n",
       "      <td>2</td>\n",
       "      <td>At home</td>\n",
       "      <td>Medium</td>\n",
       "    </tr>\n",
       "    <tr>\n",
       "      <th>4</th>\n",
       "      <td>60</td>\n",
       "      <td>Male</td>\n",
       "      <td>Brazil</td>\n",
       "      <td>62963</td>\n",
       "      <td>1</td>\n",
       "      <td>0</td>\n",
       "      <td>Rural</td>\n",
       "      <td>YouTube</td>\n",
       "      <td>101</td>\n",
       "      <td>19</td>\n",
       "      <td>41</td>\n",
       "      <td>93</td>\n",
       "      <td>Night</td>\n",
       "      <td>3</td>\n",
       "      <td>7</td>\n",
       "      <td>Habit</td>\n",
       "      <td>5</td>\n",
       "      <td>5</td>\n",
       "      <td>Commuting</td>\n",
       "      <td>Low</td>\n",
       "    </tr>\n",
       "    <tr>\n",
       "      <th>5</th>\n",
       "      <td>25</td>\n",
       "      <td>Male</td>\n",
       "      <td>Pakistan</td>\n",
       "      <td>22096</td>\n",
       "      <td>0</td>\n",
       "      <td>1</td>\n",
       "      <td>Urban</td>\n",
       "      <td>TikTok</td>\n",
       "      <td>136</td>\n",
       "      <td>6</td>\n",
       "      <td>21</td>\n",
       "      <td>4</td>\n",
       "      <td>Morning</td>\n",
       "      <td>8</td>\n",
       "      <td>2</td>\n",
       "      <td>Boredom</td>\n",
       "      <td>10</td>\n",
       "      <td>0</td>\n",
       "      <td>At home</td>\n",
       "      <td>High</td>\n",
       "    </tr>\n",
       "  </tbody>\n",
       "</table>\n",
       "</div>"
      ],
      "text/plain": [
       "        Age  Gender        Country  Income  HasDebt  OwnsProperty  \\\n",
       "UserID                                                              \n",
       "1        56    Male       Pakistan   82812        1             1   \n",
       "2        46  Female         Mexico   27999        0             1   \n",
       "3        32  Female  United States   42436        0             1   \n",
       "4        60    Male         Brazil   62963        1             0   \n",
       "5        25    Male       Pakistan   22096        0             1   \n",
       "\n",
       "       Demographics   Platform  MinutesSpent  NumSessions  NumVideos  \\\n",
       "UserID                                                                 \n",
       "1             Rural  Instagram            80           17         22   \n",
       "2             Urban  Instagram           228           14         31   \n",
       "3             Rural   Facebook            30            6          7   \n",
       "4             Rural    YouTube           101           19         41   \n",
       "5             Urban     TikTok           136            6         21   \n",
       "\n",
       "        ScrollRate  TimeOfDay  ProductivityLoss  Satisfaction  \\\n",
       "UserID                                                          \n",
       "1               87      Night                 3             7   \n",
       "2               46  Afternoon                 5             5   \n",
       "3               88    Evening                 6             4   \n",
       "4               93      Night                 3             7   \n",
       "5                4    Morning                 8             2   \n",
       "\n",
       "            WatchReason  SelfControl  AddictionLevel CurrentActivity  \\\n",
       "UserID                                                                 \n",
       "1       Procrastination            5               5       Commuting   \n",
       "2                 Habit            7               3       At school   \n",
       "3         Entertainment            8               2         At home   \n",
       "4                 Habit            5               5       Commuting   \n",
       "5               Boredom           10               0         At home   \n",
       "\n",
       "       BinnedProdLoss  \n",
       "UserID                 \n",
       "1                 Low  \n",
       "2              Medium  \n",
       "3              Medium  \n",
       "4                 Low  \n",
       "5                High  "
      ]
     },
     "execution_count": 12,
     "metadata": {},
     "output_type": "execute_result"
    }
   ],
   "source": [
    "colsInterest.head(5)"
   ]
  },
  {
   "cell_type": "code",
   "execution_count": 13,
   "metadata": {},
   "outputs": [],
   "source": [
    "all_features = colsInterest[['Age', 'Gender', 'Country', 'Income', 'HasDebt', 'OwnsProperty',\n",
    "       'Demographics', 'Platform', 'MinutesSpent', 'NumSessions', 'NumVideos',\n",
    "       'ScrollRate', 'TimeOfDay','Satisfaction', 'WatchReason', 'SelfControl', 'AddictionLevel', 'CurrentActivity' ]]\n",
    "\n",
    "no_gender = colsInterest[['Age', 'Country', 'Income', 'HasDebt', 'OwnsProperty',\n",
    "       'Demographics', 'Platform', 'MinutesSpent', 'NumSessions', 'NumVideos',\n",
    "       'ScrollRate', 'TimeOfDay','Satisfaction', 'WatchReason', 'SelfControl', 'AddictionLevel', 'CurrentActivity' ]]\n",
    "\n",
    "no_location = colsInterest[['Age', 'Gender', 'Income', 'HasDebt', 'OwnsProperty',\n",
    "       'Demographics', 'Platform', 'MinutesSpent', 'NumSessions', 'NumVideos',\n",
    "       'ScrollRate', 'TimeOfDay','Satisfaction', 'WatchReason', 'SelfControl', 'AddictionLevel', 'CurrentActivity' ]]\n",
    "\n",
    "no_gender_location = colsInterest[['Age', 'Income', 'OwnsProperty', 'HasDebt',\n",
    "       'Demographics', 'Platform', 'MinutesSpent', 'NumSessions', 'NumVideos',\n",
    "        'TimeOfDay', 'WatchReason', 'CurrentActivity' ]] \n",
    "\n",
    "no_property_debt = colsInterest[['Age', 'Income', 'Platform', 'MinutesSpent', 'NumSessions', 'NumVideos',\n",
    "       'ScrollRate', 'TimeOfDay','Satisfaction', 'WatchReason', 'SelfControl', 'AddictionLevel', 'CurrentActivity' ]] # no gender, location, demographics either\n",
    "\n",
    "categorical = ['Gender', 'Country', 'Demographics', 'Platform', 'TimeOfDay',\n",
    "       'WatchReason', 'CurrentActivity']\n",
    "categorical_no_gender = categorical[1:]\n",
    "categorical_no_location = [x for x in categorical if x != 'Country']\n",
    "categorical_no_gender_location = ['Demographics', 'Platform', 'TimeOfDay',\n",
    "       'WatchReason', 'CurrentActivity']\n",
    "categorical_no_property_debt = ['Platform', 'TimeOfDay','WatchReason', 'CurrentActivity']\n",
    "\n",
    "response = colsInterest['BinnedProdLoss']"
   ]
  },
  {
   "cell_type": "code",
   "execution_count": 14,
   "metadata": {},
   "outputs": [],
   "source": [
    "def get_train_test_split(features, resp):\n",
    "    X_train, X_test, y_train, y_test = train_test_split(features, resp, random_state=98)\n",
    "    return X_train, X_test, y_train, y_test"
   ]
  },
  {
   "cell_type": "code",
   "execution_count": 15,
   "metadata": {},
   "outputs": [],
   "source": [
    "# Goal is to create Random forest classifier, no preprocessing needed\n",
    "# Will use GridSearchCv to find best hyperperams\n",
    "\n",
    "def train_model(cat, X_train, y_train):\n",
    "\n",
    "    # X_train, X_test, y_train, y_test = train_test_split(features, resp, random_state=98)\n",
    "\n",
    "\n",
    "    hyperperams = {\n",
    "        'randomforestclassifier__n_estimators': [100, 200, 300],\n",
    "        'randomforestclassifier__max_depth': [10, 20, 30, None],\n",
    "        'randomforestclassifier__min_samples_split': [2, 5, 10],\n",
    "        # 'randomforestclassifier__min_samples_leaf': [1, 2, 4],\n",
    "        # 'randomforestclassifier__max_features': ['sqrt', 'log2', None],\n",
    "        # 'randomforestclassifier__bootstrap': [True, False],\n",
    "        # 'randomforestclassifier__criterion': ['gini', 'entropy'],\n",
    "        # 'randomforestclassifier__class_weight': [None, 'balanced'],\n",
    "        # 'randomforestclassifier__random_state': [42]\n",
    "    }\n",
    "\n",
    "    simple_preprocessing = make_column_transformer(\n",
    "        (OneHotEncoder(handle_unknown='ignore'), cat), (StandardScaler(),['Age', 'Income', 'MinutesSpent', 'NumSessions', 'NumVideos']))\n",
    "    \n",
    "    # joblib.dump(simple_preprocessing, 'simple_preprocessing.pkl')\n",
    "    \n",
    "    rf = make_pipeline(simple_preprocessing, RandomForestClassifier())\n",
    "\n",
    "\n",
    "    searcher = GridSearchCV(rf, \n",
    "                            param_grid=hyperperams, \n",
    "                            scoring = 'accuracy')\n",
    "\n",
    "    searcher.fit(X_train, y_train)\n",
    "    joblib.dump(searcher.best_estimator_, 'rf_pipeline.pkl')\n",
    "\n",
    "    return searcher\n",
    "\n",
    "\n",
    "\n"
   ]
  },
  {
   "cell_type": "code",
   "execution_count": 16,
   "metadata": {},
   "outputs": [],
   "source": [
    "def get_results(model, X_test, y_test):\n",
    "    y_pred = model.predict(X_test)\n",
    "    print(classification_report(y_test, y_pred))"
   ]
  },
  {
   "cell_type": "markdown",
   "metadata": {},
   "source": [
    "All variables"
   ]
  },
  {
   "cell_type": "code",
   "execution_count": 17,
   "metadata": {},
   "outputs": [],
   "source": [
    "# X_train, X_test, y_train, y_test = get_train_test_split(all_features, response)\n",
    "# model = train_model(categorical, X_train, y_train)\n",
    "# get_results(model, X_test, y_test)"
   ]
  },
  {
   "cell_type": "code",
   "execution_count": 18,
   "metadata": {},
   "outputs": [],
   "source": [
    "# X_train, X_test, y_train, y_test = get_train_test_split(no_gender, response)\n",
    "# model_no_gender = train_model(categorical_no_gender, X_train, y_train)\n",
    "# get_results(model_no_gender, X_test, y_test)"
   ]
  },
  {
   "cell_type": "code",
   "execution_count": 19,
   "metadata": {},
   "outputs": [],
   "source": [
    "# X_train, X_test, y_train, y_test = get_train_test_split(no_location, response)\n",
    "# model_no_location = train_model(categorical_no_location, X_train, y_train)\n",
    "# get_results(model_no_location, X_test, y_test)"
   ]
  },
  {
   "cell_type": "code",
   "execution_count": 20,
   "metadata": {},
   "outputs": [
    {
     "name": "stdout",
     "output_type": "stream",
     "text": [
      "              precision    recall  f1-score   support\n",
      "\n",
      "        High       0.78      0.43      0.55        49\n",
      "         Low       0.94      0.79      0.86        78\n",
      "      Medium       0.75      0.95      0.84       123\n",
      "\n",
      "    accuracy                           0.80       250\n",
      "   macro avg       0.82      0.72      0.75       250\n",
      "weighted avg       0.81      0.80      0.79       250\n",
      "\n"
     ]
    }
   ],
   "source": [
    "X_train, X_test, y_train, y_test = get_train_test_split(no_gender_location, response)\n",
    "model_no_gender_location = train_model(categorical_no_gender_location, X_train, y_train)\n",
    "get_results(model_no_gender_location, X_test, y_test)"
   ]
  },
  {
   "cell_type": "code",
   "execution_count": 21,
   "metadata": {},
   "outputs": [
    {
     "data": {
      "text/plain": [
       "0.182"
      ]
     },
     "execution_count": 21,
     "metadata": {},
     "output_type": "execute_result"
    }
   ],
   "source": [
    "(colsInterest['BinnedProdLoss'] == 'High').sum() / colsInterest.shape[0]"
   ]
  },
  {
   "cell_type": "code",
   "execution_count": 22,
   "metadata": {},
   "outputs": [
    {
     "data": {
      "text/plain": [
       "{'randomforestclassifier__max_depth': 20,\n",
       " 'randomforestclassifier__min_samples_split': 5,\n",
       " 'randomforestclassifier__n_estimators': 100}"
      ]
     },
     "execution_count": 22,
     "metadata": {},
     "output_type": "execute_result"
    }
   ],
   "source": [
    "model_no_gender_location.best_params_"
   ]
  },
  {
   "cell_type": "code",
   "execution_count": 23,
   "metadata": {},
   "outputs": [
    {
     "data": {
      "text/plain": [
       "array(['Medium', 'Low', 'Medium', 'Medium', 'Medium', 'Medium', 'Medium',\n",
       "       'Medium', 'Medium', 'Medium', 'Low', 'Medium', 'Medium', 'Medium',\n",
       "       'Medium', 'High', 'Medium', 'High', 'High', 'Low', 'Medium',\n",
       "       'Medium', 'Medium', 'Low', 'Medium', 'Medium', 'Medium', 'Low',\n",
       "       'Medium', 'Medium', 'Medium', 'Medium', 'High', 'Medium', 'Medium',\n",
       "       'Medium', 'Medium', 'Medium', 'Medium', 'Medium', 'Medium', 'Low',\n",
       "       'Medium', 'Medium', 'Low', 'Low', 'Medium', 'Medium', 'Medium',\n",
       "       'Low', 'Medium', 'High', 'Medium', 'Medium', 'Medium', 'Low',\n",
       "       'Low', 'High', 'Medium', 'Medium', 'Low', 'Medium', 'Low', 'Low',\n",
       "       'Low', 'Medium', 'Medium', 'Medium', 'High', 'Medium', 'Medium',\n",
       "       'Medium', 'Low', 'High', 'Medium', 'Low', 'Medium', 'Medium',\n",
       "       'Low', 'Medium', 'Medium', 'Low', 'Medium', 'Low', 'High', 'Low',\n",
       "       'Medium', 'Medium', 'High', 'High', 'Medium', 'Medium', 'Low',\n",
       "       'Medium', 'Medium', 'Medium', 'Medium', 'Low', 'High', 'High',\n",
       "       'Medium', 'Medium', 'Medium', 'Medium', 'Medium', 'Medium', 'Low',\n",
       "       'High', 'Low', 'Medium', 'Medium', 'Medium', 'Medium', 'Low',\n",
       "       'Medium', 'Medium', 'Medium', 'Low', 'Low', 'Low', 'Medium',\n",
       "       'Medium', 'Low', 'High', 'Medium', 'High', 'Medium', 'Medium',\n",
       "       'Low', 'Low', 'Medium', 'Low', 'Medium', 'Medium', 'Medium',\n",
       "       'Medium', 'Medium', 'Medium', 'Low', 'Low', 'Medium', 'High',\n",
       "       'Medium', 'Medium', 'Medium', 'Medium', 'Low', 'Low', 'Low',\n",
       "       'Medium', 'Medium', 'Medium', 'High', 'Low', 'Low', 'High',\n",
       "       'Medium', 'Low', 'Low', 'Medium', 'Medium', 'Low', 'Medium',\n",
       "       'Medium', 'Medium', 'Low', 'Medium', 'Low', 'Medium', 'Medium',\n",
       "       'Medium', 'Medium', 'Medium', 'Medium', 'Medium', 'Low', 'High',\n",
       "       'Low', 'Low', 'Medium', 'Medium', 'Medium', 'Low', 'Medium',\n",
       "       'Medium', 'Low', 'Medium', 'High', 'Medium', 'Medium', 'Medium',\n",
       "       'High', 'Medium', 'Medium', 'Medium', 'Low', 'Medium', 'Medium',\n",
       "       'Medium', 'Medium', 'Medium', 'Low', 'Low', 'High', 'Low',\n",
       "       'Medium', 'Medium', 'High', 'Medium', 'Low', 'Medium', 'Medium',\n",
       "       'Low', 'Medium', 'Medium', 'Medium', 'Medium', 'Low', 'Medium',\n",
       "       'Low', 'Medium', 'Medium', 'Medium', 'Low', 'Medium', 'Medium',\n",
       "       'High', 'Medium', 'Medium', 'Low', 'Low', 'Medium', 'Low',\n",
       "       'Medium', 'Low', 'Low', 'Medium', 'Medium', 'High', 'Medium',\n",
       "       'Medium', 'Medium', 'Medium', 'Medium', 'Low', 'High', 'Medium',\n",
       "       'Medium', 'Medium', 'Low'], dtype=object)"
      ]
     },
     "execution_count": 23,
     "metadata": {},
     "output_type": "execute_result"
    }
   ],
   "source": [
    "model_no_gender_location.predict(X_test)"
   ]
  },
  {
   "cell_type": "markdown",
   "metadata": {},
   "source": [
    "<span style=\"color: #FFCCCC;\">Save Model to Disk for Use in API <span style>"
   ]
  },
  {
   "cell_type": "code",
   "execution_count": 24,
   "metadata": {},
   "outputs": [
    {
     "data": {
      "text/plain": [
       "'Low'"
      ]
     },
     "execution_count": 24,
     "metadata": {},
     "output_type": "execute_result"
    }
   ],
   "source": [
    "input_data = pd.DataFrame(\n",
    "    [[23, 15000, False, True, \"Urban\", \"TikTok\", 50, 800, 800, \"Night\", \"Procrastination\", \"At home\"]],\n",
    "    columns=[\"Age\", \"Income\", \"OwnsProperty\", \"HasDebt\", \"Demographics\", \"Platform\", \n",
    "             \"MinutesSpent\", \"NumSessions\", \"NumVideos\", \"TimeOfDay\",\n",
    "             \"WatchReason\", \"CurrentActivity\"]\n",
    ")\n",
    "fun = model_no_gender_location.predict(input_data)[0]\n",
    "\n",
    "# if fun == 'Low':\n",
    "#     fun = 'High'\n",
    "# elif fun == 'High':\n",
    "#     fun = 'Low'\n",
    "\n",
    "fun\n"
   ]
  },
  {
   "cell_type": "code",
   "execution_count": 25,
   "metadata": {},
   "outputs": [
    {
     "name": "stdout",
     "output_type": "stream",
     "text": [
      "Requirement already satisfied: joblib in /Users/oliver/miniforge3/envs/pds/lib/python3.10/site-packages (1.4.2)\n"
     ]
    }
   ],
   "source": [
    "!pip install joblib"
   ]
  },
  {
   "cell_type": "code",
   "execution_count": 26,
   "metadata": {},
   "outputs": [],
   "source": [
    "\n",
    "\n",
    "# joblib.dump(model_no_gender_location, 'random_forest_model.pkl') # we use the model with the best accuracy and F1-Score"
   ]
  },
  {
   "cell_type": "markdown",
   "metadata": {},
   "source": [
    "New Model: Lasso Regression: Make future \"addiction level\" and predict"
   ]
  },
  {
   "cell_type": "code",
   "execution_count": 27,
   "metadata": {},
   "outputs": [],
   "source": [
    "# new_df = pd.read_csv('newInput.csv')"
   ]
  },
  {
   "cell_type": "code",
   "execution_count": 28,
   "metadata": {},
   "outputs": [
    {
     "name": "stdout",
     "output_type": "stream",
     "text": [
      "Best alpha: 0.1\n",
      "Best CV R² score: 0.366\n",
      "Test R² score: 0.502\n"
     ]
    }
   ],
   "source": [
    "from sklearn.linear_model import Ridge, Lasso\n",
    "from sklearn.pipeline import Pipeline\n",
    "from sklearn.compose import ColumnTransformer\n",
    "from sklearn.preprocessing import OneHotEncoder, StandardScaler, PolynomialFeatures\n",
    "from sklearn.model_selection import train_test_split\n",
    "\n",
    "# Define numerical and categorical columns\n",
    "numerical_cols = [\n",
    "    \"Age\", \"Income\",\n",
    "    \"NumSessions\", \"NumVideos\", \"MinutesSpent\"\n",
    "]\n",
    "\n",
    "categorical_cols = [\n",
    "    \"Demographics\", \"Platform\", \"TimeOfDay\", \n",
    "     \"WatchReason\", \"CurrentActivity\", \"OwnsProperty\", \"HasDebt\"\n",
    "]\n",
    "\n",
    "resp = colsInterest['ProductivityLoss']\n",
    "\n",
    "new_cols = [\"Age\", \"Income\", \"OwnsProperty\", \"HasDebt\", \"Demographics\", \"Platform\", \n",
    "             \"NumSessions\", \"NumVideos\", \"TimeOfDay\", \"MinutesSpent\",\n",
    "             \"WatchReason\", \"CurrentActivity\"]\n",
    "\n",
    "\n",
    "X_train, X_test, y_train, y_test = train_test_split(colsInterest[new_cols], resp, random_state=98)\n",
    "\n",
    "# Preprocessing\n",
    "preprocessor = ColumnTransformer([\n",
    "    ('num', StandardScaler(), numerical_cols),\n",
    "    ('cat', OneHotEncoder(drop=\"first\"), categorical_cols)\n",
    "])\n",
    "# preprocessor = ColumnTransformer([\n",
    "#     ('num', StandardScaler(), numerical_cols),\n",
    "#     ('cat', make_pipeline(OneHotEncoder(drop=\"first\", handle_unknown='ignore'), StandardScaler(with_mean=False)), categorical_cols)\n",
    "# ])\n",
    "\n",
    "\n",
    "# Ridge regression pipeline\n",
    "pipeline = Pipeline([\n",
    "    ('preprocess', preprocessor),\n",
    "    ('model',  Ridge())  # You can tune alpha\n",
    "])\n",
    "\n",
    "param_grid = {\n",
    "    'model__alpha': [0.0001, 0.001, 0.01, 0.1]\n",
    "}\n",
    "\n",
    "grid_search = GridSearchCV(\n",
    "    pipeline, param_grid, cv=5, scoring='r2', n_jobs=-1\n",
    ")\n",
    "\n",
    "# Fit the model\n",
    "\n",
    "grid_search.fit(X_train, y_train)\n",
    "\n",
    "# Results\n",
    "print(f\"Best alpha: {grid_search.best_params_['model__alpha']}\")\n",
    "print(f\"Best CV R² score: {grid_search.best_score_:.3f}\")\n",
    "print(f\"Test R² score: {grid_search.score(X_test, y_test):.3f}\")\n",
    "\n"
   ]
  },
  {
   "cell_type": "code",
   "execution_count": 29,
   "metadata": {},
   "outputs": [
    {
     "data": {
      "text/plain": [
       "array([5.93289726, 3.90233193, 5.51645202, 6.10809292, 5.45393643,\n",
       "       5.94611338, 5.77872647, 6.07452058, 5.07805711, 5.79721487,\n",
       "       3.58718979, 5.51299721, 5.96369817, 5.44112158, 5.62915497,\n",
       "       7.49139739, 5.09734321, 7.12928893, 7.05444647, 3.4591867 ,\n",
       "       5.75550931, 5.45332808, 6.31003003, 3.28414719, 6.24185668,\n",
       "       6.21787423, 5.8752832 , 3.10814249, 5.78990048, 6.11802971,\n",
       "       6.36530406, 5.57386739, 7.22950885, 5.29411737, 5.30288188,\n",
       "       5.25540964, 5.75451014, 5.70974383, 5.42253278, 6.04816217,\n",
       "       4.98975311, 3.99968738, 5.833782  , 5.41223971, 3.89109116,\n",
       "       3.36051999, 4.92534632, 5.04201204, 5.94759151, 3.63325576,\n",
       "       4.92882209, 7.38845038, 5.40644498, 5.5300847 , 5.63045507,\n",
       "       3.35788047, 3.43369674, 7.18001794, 5.84721834, 5.95483694,\n",
       "       3.11570841, 5.34096515, 3.35170485, 3.34876693, 3.26395556,\n",
       "       6.37506579, 6.40629882, 4.97894757, 7.66577133, 5.64379746,\n",
       "       6.16766895, 6.1711072 , 3.26659985, 7.23949587, 5.49540907,\n",
       "       3.54092442, 5.58678462, 5.34593332, 3.38514095, 5.06803854,\n",
       "       5.10924111, 3.28736618, 5.04510904, 3.76943811, 8.04963692,\n",
       "       3.78669546, 5.89670343, 6.11042669, 7.4079901 , 7.35853334,\n",
       "       5.68563261, 5.38026475, 2.73658977, 5.3982117 , 5.81126337,\n",
       "       5.84106501, 5.7290439 , 2.80959069, 7.26653471, 7.31990424,\n",
       "       5.77954564, 5.13052737, 5.18360203, 5.34448191, 5.39925403,\n",
       "       5.97995446, 3.11772766, 7.76288889, 3.32270771, 6.10105957,\n",
       "       5.60855482, 4.97566879, 5.99348664, 3.22561378, 5.18012638,\n",
       "       5.19397104, 5.96242011, 3.31943309, 3.39808352, 3.81785299,\n",
       "       5.68732412, 4.79204673, 3.25580504, 7.28950293, 5.14109871,\n",
       "       8.01912107, 5.03379026, 5.54417137, 3.27658174, 3.505376  ,\n",
       "       5.65538866, 3.36832802, 5.42992972, 5.86188042, 5.58551677,\n",
       "       5.35548328, 5.60739775, 5.15539985, 2.80953853, 3.33455794,\n",
       "       7.67099839, 7.28988926, 5.9138324 , 5.82180288, 4.99916788,\n",
       "       4.95827509, 2.51380236, 2.86661579, 3.35283543, 5.56315797,\n",
       "       5.6585436 , 5.81128023, 7.55657431, 3.78683538, 3.23051395,\n",
       "       7.25353716, 5.35068385, 2.98565038, 3.10128577, 5.68396347,\n",
       "       5.2347262 , 3.23294552, 5.46256794, 6.08995886, 5.25864093,\n",
       "       3.14428374, 5.47743871, 3.62624915, 5.19171022, 5.20601587,\n",
       "       5.53950312, 6.13679518, 5.24635889, 4.81934214, 6.40877901,\n",
       "       3.5941946 , 7.33023059, 3.3647371 , 3.3741343 , 5.93139601,\n",
       "       5.64121   , 5.43907152, 3.42354325, 5.22679434, 5.66030202,\n",
       "       3.97710524, 6.21646905, 7.23712122, 5.32425785, 6.28138473,\n",
       "       5.51604451, 7.50770365, 5.43460547, 5.35031426, 5.34121996,\n",
       "       3.26666723, 5.39924868, 5.15820725, 5.3601481 , 5.74964497,\n",
       "       5.78250536, 4.05011328, 3.07551475, 7.21853145, 3.23408237,\n",
       "       5.7202546 , 6.07219602, 7.65647527, 5.57315875, 3.37872602,\n",
       "       5.3897615 , 5.78459859, 3.52157382, 6.12925749, 5.59594598,\n",
       "       5.38389657, 5.93794823, 3.47751521, 5.98157176, 3.38531943,\n",
       "       5.65634412, 5.76640882, 5.23816853, 3.47331395, 5.57289345,\n",
       "       5.90361258, 6.97085347, 5.94763597, 5.78402036, 2.73216031,\n",
       "       3.13993626, 5.64155409, 3.75919533, 5.80275249, 3.55207048,\n",
       "       3.61717493, 6.09723467, 5.7235139 , 7.33791424, 5.52474206,\n",
       "       5.42841136, 5.52020187, 5.6531277 , 5.71138333, 3.804472  ,\n",
       "       7.4560683 , 5.5719839 , 5.45184535, 5.19074879, 3.29286148])"
      ]
     },
     "execution_count": 29,
     "metadata": {},
     "output_type": "execute_result"
    }
   ],
   "source": [
    "y_pred = grid_search.predict(X_test)\n",
    "y_pred"
   ]
  },
  {
   "cell_type": "code",
   "execution_count": 30,
   "metadata": {},
   "outputs": [
    {
     "name": "stdout",
     "output_type": "stream",
     "text": [
      "RMSE: 1.46\n",
      "R²: 0.502\n"
     ]
    }
   ],
   "source": [
    "from sklearn.metrics import root_mean_squared_error, r2_score\n",
    "rmse = root_mean_squared_error(y_test, y_pred)\n",
    "r2 = r2_score(y_test, y_pred)\n",
    "\n",
    "print(f\"RMSE: {rmse:.2f}\")\n",
    "print(f\"R²: {r2:.3f}\")"
   ]
  },
  {
   "cell_type": "code",
   "execution_count": 31,
   "metadata": {},
   "outputs": [
    {
     "data": {
      "text/plain": [
       "7.715224877790152"
      ]
     },
     "execution_count": 31,
     "metadata": {},
     "output_type": "execute_result"
    }
   ],
   "source": [
    "input_data = pd.DataFrame(\n",
    "    [[23, 15000, False, True, \"Urban\", \"TikTok\", 1, 20, 100, \"Morning\", \"Procrastination\", \"At home\"]],\n",
    "    columns=[\"Age\", \"Income\", \"OwnsProperty\", \"HasDebt\", \"Demographics\", \"Platform\", \n",
    "             \"MinutesSpent\", \"NumSessions\", \"NumVideos\", \"TimeOfDay\", \"WatchReason\", \"CurrentActivity\" ])\n",
    "\n",
    "grid_search.predict(input_data)[0]"
   ]
  },
  {
   "cell_type": "code",
   "execution_count": 32,
   "metadata": {},
   "outputs": [
    {
     "data": {
      "text/plain": [
       "{'model__alpha': 0.1}"
      ]
     },
     "execution_count": 32,
     "metadata": {},
     "output_type": "execute_result"
    }
   ],
   "source": [
    "best_model = grid_search.best_params_\n",
    "best_model"
   ]
  },
  {
   "cell_type": "code",
   "execution_count": 33,
   "metadata": {},
   "outputs": [],
   "source": [
    "# joblib.dump(grid_search, 'lasso_model.pkl')"
   ]
  },
  {
   "cell_type": "code",
   "execution_count": 34,
   "metadata": {},
   "outputs": [
    {
     "name": "stdout",
     "output_type": "stream",
     "text": [
      "num__Age: -0.0703\n",
      "num__Income: -0.0420\n",
      "num__NumSessions: 0.1318\n",
      "num__NumVideos: -0.0123\n",
      "num__MinutesSpent: 0.0020\n",
      "cat__Demographics_Urban: 0.1014\n",
      "cat__Platform_Instagram: 0.0827\n",
      "cat__Platform_TikTok: 0.0847\n",
      "cat__Platform_YouTube: 0.1100\n",
      "cat__TimeOfDay_Evening: 0.4915\n",
      "cat__TimeOfDay_Morning: 2.0312\n",
      "cat__TimeOfDay_Night: -1.9992\n",
      "cat__WatchReason_Entertainment: -0.0047\n",
      "cat__WatchReason_Habit: -0.1108\n",
      "cat__WatchReason_Procrastination: -0.2108\n",
      "cat__CurrentActivity_At school: 0.2368\n",
      "cat__CurrentActivity_At work: 0.0222\n",
      "cat__CurrentActivity_Commuting: 0.2989\n",
      "cat__OwnsProperty_1: 0.0509\n",
      "cat__HasDebt_1: 0.4314\n"
     ]
    }
   ],
   "source": [
    "model = grid_search.best_estimator_.named_steps['model']\n",
    "preprocessor = grid_search.best_estimator_.named_steps['preprocess']\n",
    "feature_names = preprocessor.get_feature_names_out()\n",
    "\n",
    "# Print non-zero coefficients\n",
    "for name, coef in zip(feature_names, model.coef_):\n",
    "    if coef != 0:\n",
    "        print(f\"{name}: {coef:.4f}\")"
   ]
  },
  {
   "cell_type": "markdown",
   "metadata": {},
   "source": [
    "**RidgeClassifier : This was the final model we used** "
   ]
  },
  {
   "cell_type": "code",
   "execution_count": 35,
   "metadata": {},
   "outputs": [],
   "source": [
    "from sklearn.preprocessing import OrdinalEncoder\n",
    "\n",
    "encoder = OrdinalEncoder(categories=[['Low', 'Medium', 'High']])\n",
    "X_train, X_test, y_train, y_test = train_test_split(colsInterest[new_cols], colsInterest['BinnedProdLoss'], random_state=98)\n",
    "\n",
    "y_train_encoded = encoder.fit_transform(y_train.to_frame()).ravel()\n",
    "y_test_encoded = encoder.transform(y_test.to_frame()).ravel()\n",
    "\n",
    "\n",
    "\n"
   ]
  },
  {
   "cell_type": "code",
   "execution_count": 36,
   "metadata": {},
   "outputs": [
    {
     "name": "stdout",
     "output_type": "stream",
     "text": [
      "              precision    recall  f1-score   support\n",
      "\n",
      "        High       0.79      0.45      0.57        49\n",
      "         Low       0.94      0.79      0.86        78\n",
      "      Medium       0.75      0.95      0.84       123\n",
      "\n",
      "    accuracy                           0.80       250\n",
      "   macro avg       0.83      0.73      0.76       250\n",
      "weighted avg       0.82      0.80      0.79       250\n",
      "\n"
     ]
    }
   ],
   "source": [
    "from sklearn.linear_model import RidgeClassifier\n",
    "from sklearn.pipeline import Pipeline\n",
    "from mord import OrdinalRidge\n",
    "\n",
    "# Use your preprocessor from before\n",
    "pipeline = Pipeline([\n",
    "    ('preprocess', preprocessor),\n",
    "    ('model', RidgeClassifier()) \n",
    "])\n",
    "\n",
    "pipeline.fit(X_train, y_train_encoded)\n",
    "\n",
    "y_pred_encoded = pipeline.predict(X_test)\n",
    "\n",
    "y_pred_labels = encoder.inverse_transform(y_pred_encoded.reshape(-1, 1)).ravel()\n",
    "y_test_labels = encoder.inverse_transform(y_test_encoded.reshape(-1, 1)).ravel()\n",
    "\n",
    "# Show precision, recall, f1 per class\n",
    "print(classification_report(y_test_labels, y_pred_labels))\n"
   ]
  },
  {
   "cell_type": "code",
   "execution_count": 76,
   "metadata": {},
   "outputs": [
    {
     "data": {
      "text/plain": [
       "array([2.])"
      ]
     },
     "execution_count": 76,
     "metadata": {},
     "output_type": "execute_result"
    }
   ],
   "source": [
    "input_data = pd.DataFrame(\n",
    "    [[23, 15000, False, True, \"Urban\", \"TikTok\", 0, 0, 0, \"Morning\", \"Procrastination\", \"At work\"]],\n",
    "    columns=[\"Age\", \"Income\", \"OwnsProperty\", \"HasDebt\", \"Demographics\", \"Platform\", \n",
    "             \"MinutesSpent\", \"NumSessions\", \"NumVideos\", \"TimeOfDay\", \"WatchReason\", \"CurrentActivity\" ])\n",
    "pipeline.predict(input_data)"
   ]
  },
  {
   "cell_type": "code",
   "execution_count": 38,
   "metadata": {},
   "outputs": [],
   "source": [
    "# joblib.dump(pipeline, 'ridge_classifier.pkl')"
   ]
  }
 ],
 "metadata": {
  "kernelspec": {
   "display_name": "pds",
   "language": "python",
   "name": "python3"
  },
  "language_info": {
   "codemirror_mode": {
    "name": "ipython",
    "version": 3
   },
   "file_extension": ".py",
   "mimetype": "text/x-python",
   "name": "python",
   "nbconvert_exporter": "python",
   "pygments_lexer": "ipython3",
   "version": "3.10.14"
  }
 },
 "nbformat": 4,
 "nbformat_minor": 2
}
